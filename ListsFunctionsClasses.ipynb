{
 "cells": [
  {
   "cell_type": "markdown",
   "id": "bc4a4a25",
   "metadata": {
    "vscode": {
     "languageId": "powershell"
    }
   },
   "source": [
    "### Project Details\n",
    "\n",
    "Author: Cornelius Acheampong\n",
    "\n",
    "File: ListsFunctionClasses.ipynb\n",
    "\n",
    "Description:\n",
    "\n",
    " This program defines a Vehicle superclass with a general vehicle type attribute, and an Automobile subclass that inherits from Vehicle and adds specific attributes such as year, make, model, number of doors, and type of roof.\n",
    "\n",
    "The program prompts the user to enter details about a car and then displays the collected information"
   ]
  },
  {
   "cell_type": "code",
   "execution_count": 1,
   "id": "5cad9477",
   "metadata": {},
   "outputs": [],
   "source": [
    "# create vehicle class\n",
    "class Vehicle:\n",
    "    def __init__(self, vehicle_type):\n",
    "        self.vehicle_type = vehicle_type"
   ]
  },
  {
   "cell_type": "code",
   "execution_count": 2,
   "id": "542ba6b7",
   "metadata": {},
   "outputs": [],
   "source": [
    "# create automobile class that inherits from vehicle class\n",
    "class Automobile(Vehicle):\n",
    "    def __init__(self, vehicle_type, year, make, model, doors, roof):\n",
    "        super().__init__(vehicle_type)\n",
    "        self.year = year\n",
    "        self.make = make\n",
    "        self.model = model\n",
    "        self.doors = doors\n",
    "        self.roof = roof"
   ]
  },
  {
   "cell_type": "code",
   "execution_count": 3,
   "id": "30c4f211",
   "metadata": {},
   "outputs": [
    {
     "name": "stdout",
     "output_type": "stream",
     "text": [
      "Please enter the details of your car:\n"
     ]
    }
   ],
   "source": [
    "# create car vehicle type\n",
    "vehicle_type = \"car\"  \n",
    "# ask user to enter car details\n",
    "print(\"Please enter the details of your car:\")\n",
    "\n",
    "year = input(\"Year: \")\n",
    "make = input(\"Make: \")\n",
    "model = input(\"Model: \")\n",
    "doors = input(\"Number of doors (2 or 4): \")\n",
    "roof = input(\"Type of roof (solid or sun roof): \")\n",
    "\n",
    "# create the Automobile object\n",
    "car = Automobile(vehicle_type, year, make, model, doors, roof)"
   ]
  },
  {
   "cell_type": "code",
   "execution_count": 4,
   "id": "4ccb3cd8",
   "metadata": {},
   "outputs": [
    {
     "name": "stdout",
     "output_type": "stream",
     "text": [
      "\n",
      "Car Details:\n",
      "Vehicle Type: car\n",
      "Year: 1999\n",
      "Make: Toyota\n",
      "Model: 2012\n",
      "Number of Doors: 2\n",
      "Type of Roof: solid\n"
     ]
    }
   ],
   "source": [
    "# display the car details\n",
    "print(\"\\nCar Details:\")\n",
    "print(f\"Vehicle Type: {car.vehicle_type}\")\n",
    "print(f\"Year: {car.year}\")\n",
    "print(f\"Make: {car.make}\")\n",
    "print(f\"Model: {car.model}\")\n",
    "print(f\"Number of Doors: {car.doors}\")\n",
    "print(f\"Type of Roof: {car.roof}\")"
   ]
  },
  {
   "cell_type": "code",
   "execution_count": null,
   "id": "96985a3a",
   "metadata": {},
   "outputs": [],
   "source": []
  }
 ],
 "metadata": {
  "kernelspec": {
   "display_name": "myenv",
   "language": "python",
   "name": "python3"
  },
  "language_info": {
   "codemirror_mode": {
    "name": "ipython",
    "version": 3
   },
   "file_extension": ".py",
   "mimetype": "text/x-python",
   "name": "python",
   "nbconvert_exporter": "python",
   "pygments_lexer": "ipython3",
   "version": "3.11.3"
  }
 },
 "nbformat": 4,
 "nbformat_minor": 5
}
