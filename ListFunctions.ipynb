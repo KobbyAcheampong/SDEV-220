{
 "cells": [
  {
   "cell_type": "markdown",
   "id": "9e4cf2f3",
   "metadata": {},
   "source": [
    "### Module 3 Programming Assignment - Lists and Functions\n"
   ]
  },
  {
   "cell_type": "markdown",
   "id": "7e4c5ed8",
   "metadata": {},
   "source": [
    "Make a list called `things` with these three strings as elements: \"`mozzarella`\", \"`cinderella`\", \"`salmonella`\".\n",
    "\n"
   ]
  },
  {
   "cell_type": "code",
   "execution_count": 4,
   "id": "7680fbe8",
   "metadata": {},
   "outputs": [
    {
     "data": {
      "text/plain": [
       "['mozzarella', 'cinderella', 'salmonella']"
      ]
     },
     "execution_count": 4,
     "metadata": {},
     "output_type": "execute_result"
    }
   ],
   "source": [
    "things = [\"mozzarella\", \"cinderella\", \"salmonella\"]\n",
    "things"
   ]
  },
  {
   "cell_type": "markdown",
   "id": "a91f9183",
   "metadata": {},
   "source": [
    " Capitalize the element in `things` that refers to a person and then print the list. Did it change the element in the list?"
   ]
  },
  {
   "cell_type": "code",
   "execution_count": 5,
   "id": "5a92a13f",
   "metadata": {},
   "outputs": [
    {
     "data": {
      "text/plain": [
       "['mozzarella', 'Cinderella', 'salmonella']"
      ]
     },
     "execution_count": 5,
     "metadata": {},
     "output_type": "execute_result"
    }
   ],
   "source": [
    "things[1] = things[1].capitalize()\n",
    "things"
   ]
  },
  {
   "cell_type": "markdown",
   "id": "b7623c25",
   "metadata": {},
   "source": [
    "Yes, the element `Cinderella` was changed in the list."
   ]
  },
  {
   "cell_type": "markdown",
   "id": "17cd97ae",
   "metadata": {},
   "source": [
    "Make the cheesy element of `things` all uppercase and then print the list."
   ]
  },
  {
   "cell_type": "code",
   "execution_count": 6,
   "id": "a41b5ce4",
   "metadata": {},
   "outputs": [
    {
     "data": {
      "text/plain": [
       "['MOZZARELLA', 'Cinderella', 'salmonella']"
      ]
     },
     "execution_count": 6,
     "metadata": {},
     "output_type": "execute_result"
    }
   ],
   "source": [
    "things[0] = things[0].upper()\n",
    "things"
   ]
  },
  {
   "cell_type": "markdown",
   "id": "b3535c3d",
   "metadata": {},
   "source": [
    "Delete the disease element from `things`, collect your Nobel Prize, and print the list."
   ]
  },
  {
   "cell_type": "code",
   "execution_count": 7,
   "id": "63100174",
   "metadata": {},
   "outputs": [
    {
     "data": {
      "text/plain": [
       "['MOZZARELLA', 'Cinderella']"
      ]
     },
     "execution_count": 7,
     "metadata": {},
     "output_type": "execute_result"
    }
   ],
   "source": [
    "del things[2]\n",
    "things"
   ]
  },
  {
   "cell_type": "markdown",
   "id": "def7cf2b",
   "metadata": {},
   "source": [
    "Define a function called `good()` that returns the following list: ['`Harry`', '`Ron`', '`Hermione`']."
   ]
  },
  {
   "cell_type": "code",
   "execution_count": 8,
   "id": "42e1c2a8",
   "metadata": {},
   "outputs": [
    {
     "data": {
      "text/plain": [
       "['Harry', 'Ron', 'Hermione']"
      ]
     },
     "execution_count": 8,
     "metadata": {},
     "output_type": "execute_result"
    }
   ],
   "source": [
    "def good():\n",
    "    return ['Harry', 'Ron', 'Hermione']\n",
    "\n",
    "good()"
   ]
  },
  {
   "cell_type": "markdown",
   "id": "092817f7",
   "metadata": {},
   "source": [
    "Define a generator function called `get_odds()` that returns the odd numbers from `range(10)`. Use a `for` loop to find and print the third value returned."
   ]
  },
  {
   "cell_type": "code",
   "execution_count": 10,
   "id": "179bd2c5",
   "metadata": {},
   "outputs": [
    {
     "name": "stdout",
     "output_type": "stream",
     "text": [
      "The third odd number is: 5\n"
     ]
    }
   ],
   "source": [
    "def get_odds():\n",
    "    for num in range(10):\n",
    "        if num % 2 == 1:\n",
    "            yield num\n",
    "\n",
    "count = 0\n",
    "for odd_num in get_odds():\n",
    "    count += 1\n",
    "    if count == 3:\n",
    "        print(f\"The third odd number is: {odd_num}\")\n",
    "        break"
   ]
  }
 ],
 "metadata": {
  "kernelspec": {
   "display_name": "myenv",
   "language": "python",
   "name": "python3"
  },
  "language_info": {
   "codemirror_mode": {
    "name": "ipython",
    "version": 3
   },
   "file_extension": ".py",
   "mimetype": "text/x-python",
   "name": "python",
   "nbconvert_exporter": "python",
   "pygments_lexer": "ipython3",
   "version": "3.11.3"
  }
 },
 "nbformat": 4,
 "nbformat_minor": 5
}
