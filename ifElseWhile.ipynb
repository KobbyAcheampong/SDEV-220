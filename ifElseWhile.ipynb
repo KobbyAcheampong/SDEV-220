{
 "cells": [
  {
   "cell_type": "markdown",
   "id": "830ce77e",
   "metadata": {},
   "source": [
    "### Project Details\n",
    "\n",
    "Author: Cornelius Acheampong\n",
    "\n",
    "File: student_gpa_checker.py\n",
    "\n",
    "Description:\n",
    "This app accepts student names and GPAs, then determines whether\n",
    "a student qualifies for the Dean's List or Honor Roll.\n",
    "\n",
    "- If GPA >= 3.5 → Dean's List\n",
    "- If GPA >= 3.25 but < 3.5 → Honor Roll\n",
    "- The program stops when the user enters 'ZZZ' as the last name.\n"
   ]
  },
  {
   "cell_type": "code",
   "execution_count": 1,
   "id": "05fee09d",
   "metadata": {},
   "outputs": [
    {
     "name": "stdout",
     "output_type": "stream",
     "text": [
      "Enter the student's last name (or 'ZZZ' to quit): Acheampong\n",
      "Enter the student's first name: Cornelius\n",
      "Enter the student's GPA: 3.9\n",
      "Cornelius Acheampong has made the Dean's List!\n",
      "--------------------------------------------------\n",
      "Enter the student's last name (or 'ZZZ' to quit): Williams\n",
      "Enter the student's first name: Elizabeth\n",
      "Enter the student's GPA: 3.2\n",
      "Elizabeth Williams does not qualify for Dean's List or Honor Roll.\n",
      "--------------------------------------------------\n",
      "Enter the student's last name (or 'ZZZ' to quit): Dadzie\n",
      "Enter the student's first name: Stanley\n",
      "Enter the student's GPA: 2.5\n",
      "Stanley Dadzie does not qualify for Dean's List or Honor Roll.\n",
      "--------------------------------------------------\n",
      "Enter the student's last name (or 'ZZZ' to quit): Acheampong\n",
      "Enter the student's first name: Kobby\n",
      "Enter the student's GPA: 4.0\n",
      "Kobby Acheampong has made the Dean's List!\n",
      "--------------------------------------------------\n",
      "Enter the student's last name (or 'ZZZ' to quit): Acheampong\n",
      "Enter the student's first name: Millicent\n",
      "Enter the student's GPA: 1.2\n",
      "Millicent Acheampong does not qualify for Dean's List or Honor Roll.\n",
      "--------------------------------------------------\n",
      "Enter the student's last name (or 'ZZZ' to quit): ZZZ\n",
      "Exiting program. Goodbye!\n"
     ]
    }
   ],
   "source": [
    "while True:\n",
    "    last_name = input(\"Enter the student's last name (or 'ZZZ' to quit): \")\n",
    "\n",
    "    if last_name.upper() == 'ZZZ':\n",
    "        print(\"Exiting program. Goodbye!\")\n",
    "        break\n",
    "\n",
    "    first_name = input(\"Enter the student's first name: \")\n",
    "\n",
    "    gpa = float(input(\"Enter the student's GPA: \"))\n",
    "\n",
    "    if gpa >= 3.5:\n",
    "        print(f\"{first_name} {last_name} has made the Dean's List!\")\n",
    "    elif gpa >= 3.25:\n",
    "        print(f\"{first_name} {last_name} has made the Honor Roll.\")\n",
    "    else:\n",
    "        print(f\"{first_name} {last_name} does not qualify for Dean's List or Honor Roll.\")\n",
    "\n",
    "    print(\"-\" * 50)"
   ]
  }
 ],
 "metadata": {
  "kernelspec": {
   "display_name": "Python 3 (ipykernel)",
   "language": "python",
   "name": "python3"
  },
  "language_info": {
   "codemirror_mode": {
    "name": "ipython",
    "version": 3
   },
   "file_extension": ".py",
   "mimetype": "text/x-python",
   "name": "python",
   "nbconvert_exporter": "python",
   "pygments_lexer": "ipython3",
   "version": "3.10.9"
  }
 },
 "nbformat": 4,
 "nbformat_minor": 5
}
