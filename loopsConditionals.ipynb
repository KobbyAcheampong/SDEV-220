{
 "cells": [
  {
   "cell_type": "markdown",
   "id": "f55c2642",
   "metadata": {},
   "source": [
    "### Module 2 Programming Assignment - Loops and Conditionals\n",
    "\n",
    "Choose a number between 1 and 10 and assign it to the variable `secret`. Then, select another number between 1 and 10 and assign it to the variable `guess`. Next, write the conditional tests (if, else, and elif) to print the string 'too low' if `guess` is less than `secret`, 'too high' if greater than `secret`, and 'just right' if equal to `secret`."
   ]
  },
  {
   "cell_type": "code",
   "execution_count": 1,
   "id": "a15dfa78",
   "metadata": {},
   "outputs": [
    {
     "name": "stdout",
     "output_type": "stream",
     "text": [
      "too low\n"
     ]
    }
   ],
   "source": [
    "# assigning secret value\n",
    "secret = 7\n",
    "# assigning guess value\n",
    "guess = 5\n",
    "\n",
    "# conditional tests\n",
    "if guess < secret:\n",
    "    print(\"too low\")\n",
    "elif guess > secret:\n",
    "    print(\"too high\")\n",
    "else:\n",
    "    print(\"just right\")"
   ]
  },
  {
   "cell_type": "markdown",
   "id": "f1326abc",
   "metadata": {},
   "source": [
    "Assign True or False to the variables `small` and `green`. Write some if/else statements to print which of these matches those choices: cherry, pea, watermelon, pumpkin."
   ]
  },
  {
   "cell_type": "code",
   "execution_count": 2,
   "id": "1c974f56",
   "metadata": {},
   "outputs": [
    {
     "name": "stdout",
     "output_type": "stream",
     "text": [
      "cherry matches\n"
     ]
    }
   ],
   "source": [
    "# assigning boolean values\n",
    "small = True\n",
    "green = False\n",
    "\n",
    "# conditional tests\n",
    "if small and not green:\n",
    "    print(\"cherry matches\")\n",
    "elif small and green:\n",
    "    print(\"pea matches\")\n",
    "elif not small and green:\n",
    "    print(\"watermelon matches\")\n",
    "elif not small and not green:\n",
    "    print(\"pumpkin matches\")\n"
   ]
  },
  {
   "cell_type": "markdown",
   "id": "aa5fc52b",
   "metadata": {},
   "source": [
    "Use a `for` loop to print the values of the list `[3, 2, 1, 0]`."
   ]
  },
  {
   "cell_type": "code",
   "execution_count": 3,
   "id": "5ff2d1de",
   "metadata": {},
   "outputs": [
    {
     "name": "stdout",
     "output_type": "stream",
     "text": [
      "3\n",
      "2\n",
      "1\n",
      "0\n"
     ]
    }
   ],
   "source": [
    "numbers = [3, 2, 1, 0]\n",
    "for number in numbers:\n",
    "    print(number)"
   ]
  },
  {
   "cell_type": "markdown",
   "id": "af51ba58",
   "metadata": {},
   "source": [
    "Assign the value `7` to the variable `guess_me`, and the value `1` to the variable `number`. Write a while loop that compares `number` with `guess_me`. Print '`too low`' if number is less than `guess me`. If `number` equals `guess_me`, print '`found it!`' and then exit the loop. If `number` is greater than `guess_me`, print '`oops`' and then exit the loop. Increment `number` at the end of the loop."
   ]
  },
  {
   "cell_type": "code",
   "execution_count": 4,
   "id": "0bb2a7a1",
   "metadata": {},
   "outputs": [
    {
     "name": "stdout",
     "output_type": "stream",
     "text": [
      "too low\n",
      "too low\n",
      "too low\n",
      "too low\n",
      "too low\n",
      "too low\n",
      "found it!\n"
     ]
    }
   ],
   "source": [
    "# assigning values\n",
    "guess_me = 7\n",
    "number = 1\n",
    "\n",
    "# while loop with conditional tests\n",
    "while True:\n",
    "    if number < guess_me:\n",
    "        print(\"too low\")\n",
    "    elif number == guess_me:\n",
    "        print(\"found it!\")\n",
    "        break\n",
    "    else:\n",
    "        print(\"oops\")\n",
    "        break\n",
    "    number += 1"
   ]
  },
  {
   "cell_type": "markdown",
   "id": "61cf2a9a",
   "metadata": {},
   "source": [
    "Assign the value `5` to the variable `guess_me`. Use a for loop to iterate a variable called `number` over `range(10)`. If `number` is less than `guess_me`, print '`too low`'. If it equals `guess_me`, print `found it!` and then break out of the for loop. If `number` is greater than `guess_me`, print '`oops`' and then exit the loop"
   ]
  },
  {
   "cell_type": "code",
   "execution_count": 5,
   "id": "cf729a83",
   "metadata": {},
   "outputs": [
    {
     "name": "stdout",
     "output_type": "stream",
     "text": [
      "too low\n",
      "too low\n",
      "too low\n",
      "too low\n",
      "too low\n",
      "found it!\n"
     ]
    }
   ],
   "source": [
    "# assigning guess_me and number values\n",
    "guess_me = 5\n",
    "\n",
    "# for loop with conditional tests\n",
    "for number in range(10):\n",
    "    if number < guess_me:\n",
    "        print(\"too low\")\n",
    "    elif number == guess_me:\n",
    "        print(\"found it!\")\n",
    "        break\n",
    "    else:\n",
    "        print(\"oops\")\n",
    "        break"
   ]
  }
 ],
 "metadata": {
  "kernelspec": {
   "display_name": "Python 3 (ipykernel)",
   "language": "python",
   "name": "python3"
  },
  "language_info": {
   "codemirror_mode": {
    "name": "ipython",
    "version": 3
   },
   "file_extension": ".py",
   "mimetype": "text/x-python",
   "name": "python",
   "nbconvert_exporter": "python",
   "pygments_lexer": "ipython3",
   "version": "3.10.9"
  }
 },
 "nbformat": 4,
 "nbformat_minor": 5
}
