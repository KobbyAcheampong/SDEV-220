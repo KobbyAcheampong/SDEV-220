{
 "cells": [
  {
   "cell_type": "markdown",
   "id": "0d3fe6db",
   "metadata": {},
   "source": [
    "## Module 6 Programming Assignment -Concurrency in Python\n",
    "\n",
    "\n",
    "Write the current date as a string to the text file `today.txt.`\n",
    "\n"
   ]
  },
  {
   "cell_type": "code",
   "execution_count": 1,
   "id": "6111d182",
   "metadata": {},
   "outputs": [],
   "source": [
    "from datetime import date, datetime\n",
    "\n",
    "# today's date\n",
    "today = date.today()\n",
    "\n",
    "# date to string\n",
    "today_str = today.strftime(\"%Y-%m-%d\")\n",
    "\n",
    "# date string to file\n",
    "with open(\"today.txt\", \"w\") as file:\n",
    "    file.write(today_str)"
   ]
  },
  {
   "cell_type": "markdown",
   "id": "06c81e46",
   "metadata": {},
   "source": [
    "Read the text file today.txt into the string today_string."
   ]
  },
  {
   "cell_type": "code",
   "execution_count": 2,
   "id": "237ca0ea",
   "metadata": {},
   "outputs": [
    {
     "name": "stdout",
     "output_type": "stream",
     "text": [
      "2025-10-06\n"
     ]
    }
   ],
   "source": [
    "with open(\"today.txt\", \"r\") as file:\n",
    "    today_string = file.read()\n",
    "\n",
    "print(today_string)"
   ]
  },
  {
   "cell_type": "markdown",
   "id": "10bbbd36",
   "metadata": {},
   "source": [
    "Parse the date from today_string."
   ]
  },
  {
   "cell_type": "code",
   "execution_count": 3,
   "id": "2780f3b7",
   "metadata": {},
   "outputs": [
    {
     "name": "stdout",
     "output_type": "stream",
     "text": [
      "2025-10-06\n",
      "<class 'datetime.date'>\n"
     ]
    }
   ],
   "source": [
    "today_date = datetime.strptime(today_string, \"%Y-%m-%d\").date()\n",
    "\n",
    "print(today_date)\n",
    "print(type(today_date))"
   ]
  },
  {
   "cell_type": "markdown",
   "id": "d5b72341",
   "metadata": {},
   "source": [
    "Use `multiprocessing` to create three separate processes. Make each one wait a random number of seconds between zero and one, print the current time, and then exit."
   ]
  },
  {
   "cell_type": "code",
   "execution_count": 1,
   "id": "0fa7d98c",
   "metadata": {},
   "outputs": [
    {
     "name": "stdout",
     "output_type": "stream",
     "text": [
      "Current time: 2025-10-06 20:02:51.775686\n",
      "Current time: 2025-10-06 20:02:51.989386\n",
      "Current time: 2025-10-06 20:02:52.608835\n"
     ]
    }
   ],
   "source": [
    "import multiprocessing\n",
    "from datetime import datetime\n",
    "import time\n",
    "import random\n",
    "\n",
    "def get_process_duration():\n",
    "    curr_time = datetime.now()\n",
    "    print(f\"Current time: {curr_time}\")\n",
    "    time.sleep(random.random())\n",
    "\n",
    "\n",
    "if __name__ == '__main__':\n",
    "    proc1 = multiprocessing.Process(target=get_process_duration())\n",
    "    proc1.start()\n",
    "    proc1.join()\n",
    "    proc2 = multiprocessing.Process(target=get_process_duration())\n",
    "    proc2.start()\n",
    "    proc2.join()\n",
    "    proc3 = multiprocessing.Process(target=get_process_duration())\n",
    "    proc3.start()\n",
    "    proc3.join()"
   ]
  }
 ],
 "metadata": {
  "kernelspec": {
   "display_name": "myenv",
   "language": "python",
   "name": "python3"
  },
  "language_info": {
   "codemirror_mode": {
    "name": "ipython",
    "version": 3
   },
   "file_extension": ".py",
   "mimetype": "text/x-python",
   "name": "python",
   "nbconvert_exporter": "python",
   "pygments_lexer": "ipython3",
   "version": "3.11.3"
  }
 },
 "nbformat": 4,
 "nbformat_minor": 5
}
