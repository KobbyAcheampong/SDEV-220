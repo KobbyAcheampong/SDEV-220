{
 "cells": [
  {
   "cell_type": "markdown",
   "id": "7012ff30",
   "metadata": {},
   "source": [
    "### Module 4 Programming Assignment - Modules and Databases\n",
    "\n",
    " \n",
    " \n",
    " Create a file called `zoo.py`. In it, define a function called `hours()` that prints the string `'Open 9-5 daily'`. Then, use the interactive interpreter to import the `zoo` module and call its `hours()` function.\n",
    "\n"
   ]
  },
  {
   "cell_type": "code",
   "execution_count": 3,
   "id": "4b8caffc",
   "metadata": {},
   "outputs": [
    {
     "name": "stdout",
     "output_type": "stream",
     "text": [
      "Writing zoo.py\n"
     ]
    }
   ],
   "source": [
    "%%writefile zoo.py\n",
    "def hours():\n",
    "    return \"Open 9-5 daily\""
   ]
  },
  {
   "cell_type": "code",
   "execution_count": 4,
   "id": "1f223c26",
   "metadata": {},
   "outputs": [
    {
     "name": "stdout",
     "output_type": "stream",
     "text": [
      "Open 9-5 daily\n"
     ]
    }
   ],
   "source": [
    "import zoo\n",
    "print(zoo.hours())"
   ]
  },
  {
   "cell_type": "markdown",
   "id": "f0d01273",
   "metadata": {},
   "source": [
    "In the interactive interpreter, import the `zoo` module as `menagerie` and call its `hours()` function."
   ]
  },
  {
   "cell_type": "code",
   "execution_count": 5,
   "id": "6c057cc5",
   "metadata": {},
   "outputs": [
    {
     "name": "stdout",
     "output_type": "stream",
     "text": [
      "Open 9-5 daily\n"
     ]
    }
   ],
   "source": [
    "import zoo as menagerie\n",
    "print(menagerie.hours())"
   ]
  },
  {
   "cell_type": "markdown",
   "id": "f8276057",
   "metadata": {},
   "source": [
    "##### Create books db"
   ]
  },
  {
   "cell_type": "code",
   "execution_count": 6,
   "id": "cad19348",
   "metadata": {},
   "outputs": [
    {
     "name": "stdout",
     "output_type": "stream",
     "text": [
      "Database 'books.db' and table 'book' created successfully.\n",
      "Created CSV file: books2.csv\n",
      "Data from 'books2.csv' inserted into 'book' table successfully.\n",
      "\n",
      "Verifying data in 'book' table:\n",
      "Titles in alphabetical order:\n",
      "- Perdido Street Station\n",
      "- Small Gods\n",
      "- The Spellman Files\n",
      "- The Weirdstone of Brisingamen\n",
      "- Thud!\n",
      "\n",
      "All columns in order of publication (year):\n",
      "- 1960: The Weirdstone of Brisingamen — Alan Garner\n",
      "- 1992: Small Gods — Terry Pratchett\n",
      "- 2000: Perdido Street Station — China Miéville\n",
      "- 2005: Thud! — Terry Pratchett\n",
      "- 2007: The Spellman Files — Lisa Lutz\n",
      "\n",
      "Database connection closed.\n"
     ]
    }
   ],
   "source": [
    "import sqlite3\n",
    "import csv\n",
    "import os # Import os module to check for file existence and remove if needed\n",
    "\n",
    "# --- 1. Database Creation  ---\n",
    "# Define the database file name\n",
    "DB_FILE = 'books.db'\n",
    "CSV_FILE = 'books2.csv'\n",
    "\n",
    "# Remove existing database file to start fresh, if it exists\n",
    "if os.path.exists(DB_FILE):\n",
    "    os.remove(DB_FILE)\n",
    "    print(f\"Removed existing database file: {DB_FILE}\")\n",
    "\n",
    "# Connect to the SQLite database. If books.db doesn't exist, it will be created.\n",
    "conn = sqlite3.connect(DB_FILE)\n",
    "curs = conn.cursor()\n",
    "\n",
    "# Execute the SQL command to create the 'book' table with specified fields.\n",
    "# The fields are: title (text), author (text), and year (integer).\n",
    "curs.execute('''\n",
    "    CREATE TABLE book (\n",
    "        title TEXT,\n",
    "        author TEXT,\n",
    "        year INTEGER\n",
    "    )\n",
    "''')\n",
    "print(f\"Database '{DB_FILE}' and table 'book' created successfully.\")\n",
    "\n",
    "# --- 2. Create the books2.csv file (from Things to Do 16.3) ---\n",
    "# Data for books2.csv as specified in \"things to do 16.3\" [3]\n",
    "books2_csv_content = '''title,author,year\n",
    "The Weirdstone of Brisingamen,Alan Garner,1960\n",
    "Perdido Street Station,China Miéville,2000\n",
    "Thud!,Terry Pratchett,2005\n",
    "The Spellman Files,Lisa Lutz,2007\n",
    "Small Gods,Terry Pratchett,1992\n",
    "'''\n",
    "\n",
    "# Write the content to books2.csv\n",
    "with open(CSV_FILE, 'wt', encoding='utf-8') as outfile:\n",
    "    outfile.write(books2_csv_content)\n",
    "print(f\"Created CSV file: {CSV_FILE}\")\n",
    "\n",
    "# --- 3. Populate the 'book' table from books2.csv (as in Things to Do 16.5) ---\n",
    "# SQL INSERT statement with placeholders for title, author, and year [2]\n",
    "ins_str = 'INSERT INTO book (title, author, year) VALUES (?, ?, ?)'\n",
    "\n",
    "# Open books2.csv and read its data using DictReader [1, 4]\n",
    "with open(CSV_FILE, 'rt', encoding='utf-8') as infile:\n",
    "    # DictReader automatically uses the first row as field names [5]\n",
    "    books = csv.DictReader(infile)\n",
    "    for book_row in books:\n",
    "        # Execute the INSERT statement for each row, extracting values by column name [4]\n",
    "        curs.execute(ins_str, (book_row['title'], book_row['author'], int(book_row['year'])))\n",
    "\n",
    "# Commit the changes to the database to save the inserted data [2, 4]\n",
    "conn.commit()\n",
    "print(f\"Data from '{CSV_FILE}' inserted into 'book' table successfully.\")\n",
    "\n",
    "# --- Optional: Verify the data insertion (as in Things to Do 16.6 and 16.7) ---\n",
    "print(\"\\nVerifying data in 'book' table:\")\n",
    "print(\"Titles in alphabetical order:\")\n",
    "for (title,) in curs.execute('SELECT title FROM book ORDER BY title ASC'):\n",
    "    print(f\"- {title}\")\n",
    "\n",
    "print(\"\\nAll columns in order of publication (year):\")\n",
    "for title, author, year in curs.execute('SELECT title, author, year FROM book ORDER BY year ASC'):\n",
    "    print(f\"- {year}: {title} — {author}\")\n",
    "\n",
    "# Close the cursor and the database connection\n",
    "curs.close()\n",
    "conn.close()\n",
    "print(\"\\nDatabase connection closed.\")"
   ]
  },
  {
   "cell_type": "markdown",
   "id": "8e82b3a1",
   "metadata": {},
   "source": [
    "Use the sqlalchemy module to connect to the sqlite3 database `books.db` that you just made in exercise 16.4. As in 16.6, select and print the title column from the book table in alphabetical order."
   ]
  },
  {
   "cell_type": "code",
   "execution_count": 7,
   "id": "32670f4a",
   "metadata": {},
   "outputs": [
    {
     "name": "stdout",
     "output_type": "stream",
     "text": [
      "Perdido Street Station\n",
      "Small Gods\n",
      "The Spellman Files\n",
      "The Weirdstone of Brisingamen\n",
      "Thud!\n"
     ]
    }
   ],
   "source": [
    "conn = sqlite3.connect(DB_FILE)\n",
    "curs = conn.cursor()\n",
    "for (title,) in curs.execute('SELECT title FROM book ORDER BY title ASC'):\n",
    "    print(title)"
   ]
  }
 ],
 "metadata": {
  "kernelspec": {
   "display_name": "myenv",
   "language": "python",
   "name": "python3"
  },
  "language_info": {
   "codemirror_mode": {
    "name": "ipython",
    "version": 3
   },
   "file_extension": ".py",
   "mimetype": "text/x-python",
   "name": "python",
   "nbconvert_exporter": "python",
   "pygments_lexer": "ipython3",
   "version": "3.11.3"
  }
 },
 "nbformat": 4,
 "nbformat_minor": 5
}
